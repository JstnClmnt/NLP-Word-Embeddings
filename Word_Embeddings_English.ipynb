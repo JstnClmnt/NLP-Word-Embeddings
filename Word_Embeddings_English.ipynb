{
  "nbformat": 4,
  "nbformat_minor": 0,
  "metadata": {
    "colab": {
      "name": "Word Embeddings",
      "version": "0.3.2",
      "provenance": [],
      "collapsed_sections": [],
      "include_colab_link": true
    },
    "kernelspec": {
      "name": "python3",
      "display_name": "Python 3"
    },
    "accelerator": "GPU"
  },
  "cells": [
    {
      "cell_type": "markdown",
      "metadata": {
        "id": "view-in-github",
        "colab_type": "text"
      },
      "source": [
        "<a href=\"https://colab.research.google.com/github/JstnClmnt/NLP-Word-Embeddings/blob/master/Word_Embeddings_English.ipynb\" target=\"_parent\"><img src=\"https://colab.research.google.com/assets/colab-badge.svg\" alt=\"Open In Colab\"/></a>"
      ]
    },
    {
      "cell_type": "code",
      "metadata": {
        "id": "egr8rcxoV26f",
        "colab_type": "code",
        "colab": {}
      },
      "source": [
        "import nltk\n",
        "import tensorflow as tf\n",
        "import tensorflow.keras as keras\n",
        "import multiprocessing\n",
        "from gensim.models import Word2Vec\n",
        "from gensim.models import FastText"
      ],
      "execution_count": 0,
      "outputs": []
    },
    {
      "cell_type": "code",
      "metadata": {
        "id": "k_P3fMjnWXlj",
        "colab_type": "code",
        "colab": {
          "base_uri": "https://localhost:8080/",
          "height": 122
        },
        "outputId": "7e4041c4-6cc6-40f2-d92a-cb67bc192452"
      },
      "source": [
        "nltk.download(\"treebank\")\n",
        "\n",
        "tagged_sentences = nltk.corpus.treebank.tagged_sents()\n",
        " \n",
        "print(tagged_sentences[0])\n",
        "print(\"Tagged sentences: \", len(tagged_sentences))\n",
        "print(\"Tagged words:\", len(nltk.corpus.treebank.tagged_words()))"
      ],
      "execution_count": 2,
      "outputs": [
        {
          "output_type": "stream",
          "text": [
            "[nltk_data] Downloading package treebank to /root/nltk_data...\n",
            "[nltk_data]   Package treebank is already up-to-date!\n",
            "[('Pierre', 'NNP'), ('Vinken', 'NNP'), (',', ','), ('61', 'CD'), ('years', 'NNS'), ('old', 'JJ'), (',', ','), ('will', 'MD'), ('join', 'VB'), ('the', 'DT'), ('board', 'NN'), ('as', 'IN'), ('a', 'DT'), ('nonexecutive', 'JJ'), ('director', 'NN'), ('Nov.', 'NNP'), ('29', 'CD'), ('.', '.')]\n",
            "Tagged sentences:  3914\n",
            "Tagged words: 100676\n"
          ],
          "name": "stdout"
        }
      ]
    },
    {
      "cell_type": "code",
      "metadata": {
        "id": "9JPJT_acWqCs",
        "colab_type": "code",
        "colab": {
          "base_uri": "https://localhost:8080/",
          "height": 88
        },
        "outputId": "4a849d7d-47c1-44cf-f0a1-17771f2915f1"
      },
      "source": [
        "tagged_sentences = nltk.corpus.treebank.tagged_sents()\n",
        " \n",
        "print(tagged_sentences[0])\n",
        "print(\"Tagged sentences: \", len(tagged_sentences))\n",
        "print(\"Tagged words:\", len(nltk.corpus.treebank.tagged_words()))"
      ],
      "execution_count": 3,
      "outputs": [
        {
          "output_type": "stream",
          "text": [
            "[('Pierre', 'NNP'), ('Vinken', 'NNP'), (',', ','), ('61', 'CD'), ('years', 'NNS'), ('old', 'JJ'), (',', ','), ('will', 'MD'), ('join', 'VB'), ('the', 'DT'), ('board', 'NN'), ('as', 'IN'), ('a', 'DT'), ('nonexecutive', 'JJ'), ('director', 'NN'), ('Nov.', 'NNP'), ('29', 'CD'), ('.', '.')]\n",
            "Tagged sentences:  3914\n",
            "Tagged words: 100676\n"
          ],
          "name": "stdout"
        }
      ]
    },
    {
      "cell_type": "code",
      "metadata": {
        "id": "IzI5A26uWypE",
        "colab_type": "code",
        "colab": {
          "base_uri": "https://localhost:8080/",
          "height": 51
        },
        "outputId": "f8a85414-e285-4672-aa49-813cf865637a"
      },
      "source": [
        "import numpy as np\n",
        " \n",
        "sentences, sentence_tags =[], [] \n",
        "for tagged_sentence in tagged_sentences:\n",
        "    sentence, tags = zip(*tagged_sentence)\n",
        "    sentences.append(sentence)\n",
        "    sentence_tags.append(tags)\n",
        "print(sentences[0])\n",
        "print(sentence_tags[0])\n",
        "# ['Lorillard' 'Inc.' ',' 'the' 'unit' 'of' 'New' 'York-based' 'Loews'\n",
        "#  'Corp.' 'that' '*T*-2' 'makes' 'Kent' 'cigarettes' ',' 'stopped' 'using'\n",
        "#  'crocidolite' 'in' 'its' 'Micronite' 'cigarette' 'filters' 'in' '1956'\n",
        "# '.']\n",
        "# ['NNP' 'NNP' ',' 'DT' 'NN' 'IN' 'JJ' 'JJ' 'NNP' 'NNP' 'WDT' '-NONE-' 'VBZ'\n",
        "#  'NNP' 'NNS' ',' 'VBD' 'VBG' 'NN' 'IN' 'PRP$' 'NN' 'NN' 'NNS' 'IN' 'CD'\n",
        "#  '.']]"
      ],
      "execution_count": 4,
      "outputs": [
        {
          "output_type": "stream",
          "text": [
            "('Pierre', 'Vinken', ',', '61', 'years', 'old', ',', 'will', 'join', 'the', 'board', 'as', 'a', 'nonexecutive', 'director', 'Nov.', '29', '.')\n",
            "('NNP', 'NNP', ',', 'CD', 'NNS', 'JJ', ',', 'MD', 'VB', 'DT', 'NN', 'IN', 'DT', 'JJ', 'NN', 'NNP', 'CD', '.')\n"
          ],
          "name": "stdout"
        }
      ]
    },
    {
      "cell_type": "code",
      "metadata": {
        "id": "p4B9iq8IWzS-",
        "colab_type": "code",
        "colab": {}
      },
      "source": [
        "from sklearn.model_selection import train_test_split\n",
        " \n",
        "train_sentences, test_sentences, train_tags, test_tags = train_test_split(sentences, sentence_tags, test_size=0.2)\n",
        "\n",
        "words, tags = set([]), set([])\n",
        " \n",
        "for s in train_sentences:\n",
        "    for w in s:\n",
        "        words.add(w.lower())\n",
        "\n",
        "for ts in train_tags:\n",
        "    for t in ts:\n",
        "        tags.add(t)\n",
        "\n",
        "word2index = {w: i + 2 for i, w in enumerate(list(words))}\n",
        "word2index['-PAD-'] = 0  # The special value used for padding\n",
        "word2index['-OOV-'] = 1  # The special value used for OOVs\n",
        " \n",
        "tag2index = {t: i + 1 for i, t in enumerate(list(tags))}\n",
        "tag2index['-PAD-'] = 0  # The special value used to padding"
      ],
      "execution_count": 0,
      "outputs": []
    },
    {
      "cell_type": "code",
      "metadata": {
        "id": "ccjSqxbZW4hu",
        "colab_type": "code",
        "colab": {}
      },
      "source": [
        "#Declare Model Parameters\n",
        "cbow = 0\n",
        "skipgram = 1\n",
        "EMB_DIM = 300 #more dimensions, more computationally expensive to train\n",
        "min_word_count = 3\n",
        "workers = multiprocessing.cpu_count() #based on computer cpu count\n",
        "context_size = 7\n",
        "downsampling = 1e-3\n",
        "learning_rate = 0.025 #initial learning rate\n",
        "min_learning_rate = 0.025 #fixated learning rate\n",
        "num_epoch = 15"
      ],
      "execution_count": 0,
      "outputs": []
    },
    {
      "cell_type": "code",
      "metadata": {
        "id": "S93xujDpW9aW",
        "colab_type": "code",
        "colab": {
          "base_uri": "https://localhost:8080/",
          "height": 88
        },
        "outputId": "2b16b7b3-64cc-4a87-a741-679fe22ccfd0"
      },
      "source": [
        "w2v = Word2Vec(\n",
        "    sg = skipgram,\n",
        "    hs = 0, #hierarchical softmax\n",
        "    negative = 7,\n",
        "    size = EMB_DIM,\n",
        "    min_count = min_word_count, \n",
        "    workers = workers,\n",
        "    window = context_size, \n",
        "    sample = downsampling, \n",
        "    alpha = learning_rate, \n",
        "    min_alpha = min_learning_rate,\n",
        "    seed=1\n",
        ")\n",
        "print('Vocabulary size: %d' % len(words))\n",
        "w2v.build_vocab(train_sentences)\n",
        "w2v.train(train_sentences,epochs=10,total_examples=w2v.corpus_count)\n",
        "words_w2v = list(w2v.wv.vocab)\n",
        "# save model in ASCII (word2vec) format\n",
        "filename = 'embedding_word2vec.txt'\n",
        "w2v.wv.save_word2vec_format(filename, binary=False)"
      ],
      "execution_count": 7,
      "outputs": [
        {
          "output_type": "stream",
          "text": [
            "Vocabulary size: 10149\n"
          ],
          "name": "stdout"
        },
        {
          "output_type": "stream",
          "text": [
            "/usr/local/lib/python3.6/dist-packages/smart_open/smart_open_lib.py:398: UserWarning: This function is deprecated, use smart_open.open instead. See the migration notes for details: https://github.com/RaRe-Technologies/smart_open/blob/master/README.rst#migrating-to-the-new-open-function\n",
            "  'See the migration notes for details: %s' % _MIGRATION_NOTES_URL\n"
          ],
          "name": "stderr"
        }
      ]
    },
    {
      "cell_type": "code",
      "metadata": {
        "id": "pxHJhySOYGcM",
        "colab_type": "code",
        "colab": {
          "base_uri": "https://localhost:8080/",
          "height": 1000
        },
        "outputId": "00191cc0-4eac-464f-c9e1-cb28e3047c3d"
      },
      "source": [
        "vector = w2v.wv['computer']\n",
        "print(vector)"
      ],
      "execution_count": 8,
      "outputs": [
        {
          "output_type": "stream",
          "text": [
            "[-9.48063880e-02 -1.83071475e-04  5.84658720e-02  1.34530783e-01\n",
            " -1.45727927e-02 -3.09020630e-03  1.72997098e-02 -1.79214135e-01\n",
            " -9.87414718e-02 -1.05974391e-01 -1.32804677e-01  7.87142068e-02\n",
            "  1.05216421e-01  1.04272559e-01 -3.06221023e-02  3.05985170e-03\n",
            "  4.38102055e-03 -3.01895570e-02  2.47776195e-01 -1.61331743e-02\n",
            " -5.07561415e-02  8.14820454e-03  9.00185555e-02  1.96949467e-01\n",
            "  6.01170994e-02  9.73612964e-02  1.34601876e-01 -5.33512942e-02\n",
            "  3.62782404e-02 -1.28585979e-01  1.10913925e-01  7.76477456e-02\n",
            " -6.77567674e-03  1.92401558e-02  5.78191243e-02 -8.30302015e-02\n",
            "  5.49941286e-02 -3.28412047e-03  2.67380439e-02  1.38981650e-02\n",
            "  1.14437900e-01  1.78134426e-01 -3.33158951e-03  6.12779707e-02\n",
            "  1.85984135e-01 -4.34649922e-02  2.47458816e-01 -1.48701691e-03\n",
            "  8.96465406e-02 -9.68495160e-02  5.85098639e-02 -5.79798268e-03\n",
            " -1.75435856e-01 -1.71247706e-01  1.92920908e-01  5.70610873e-02\n",
            " -5.85080218e-03 -5.17708473e-02 -1.33252069e-01 -9.19627771e-02\n",
            "  8.68019313e-02  2.73979399e-02  4.68724556e-02 -1.98267728e-01\n",
            "  2.14593723e-01  6.86407089e-02  6.61734268e-02 -4.67170775e-02\n",
            " -1.02014162e-01 -5.31140808e-03 -3.10214814e-02  7.62652978e-03\n",
            " -3.36593390e-02  5.30083524e-03  3.15502360e-02  7.11710826e-02\n",
            "  5.72611727e-02 -1.28445134e-01  1.51502773e-01 -3.91139984e-02\n",
            " -6.67140707e-02 -8.16915259e-02  9.32081714e-02  3.80565897e-02\n",
            " -4.62363055e-03 -1.12228319e-01  7.11896690e-04 -5.67844436e-02\n",
            "  3.90332602e-02  3.88191938e-02 -2.30190262e-01  2.95311183e-01\n",
            "  4.59843650e-02 -1.79406889e-02 -7.09367394e-02 -5.98834306e-02\n",
            " -4.48506065e-02 -1.06743015e-01 -1.76943511e-01 -2.60781348e-01\n",
            " -2.27849744e-02 -1.30475923e-01 -1.21160410e-01  3.39404009e-02\n",
            " -7.07687140e-02 -2.18079984e-03 -6.92577437e-02  6.43028095e-02\n",
            "  1.36544518e-02 -5.69301285e-02 -4.05189060e-02 -3.20435278e-02\n",
            " -6.69125319e-02  1.69738829e-01 -1.83053166e-01  1.87933110e-02\n",
            " -2.31549039e-01  4.42750417e-02 -8.17720965e-03  2.78278738e-01\n",
            " -1.31792128e-01  2.05407023e-01 -6.73280582e-02 -1.59627661e-01\n",
            " -4.29090858e-02 -1.17824480e-01  1.63756654e-01 -2.01677352e-01\n",
            "  5.76356277e-02 -2.27408722e-01  4.45536897e-02 -1.99906956e-02\n",
            "  1.41847190e-02  1.23269431e-01  5.12743890e-02  4.89746630e-02\n",
            "  1.16325408e-01 -1.00817353e-01 -1.77619696e-01 -1.54489025e-01\n",
            "  3.11630219e-02 -9.89047997e-03  1.91428274e-01  1.77775212e-02\n",
            "  7.92824179e-02 -6.95663840e-02 -2.05164969e-01 -4.23067175e-02\n",
            "  1.54974177e-01 -6.71668723e-02 -1.48098141e-01  4.38041389e-02\n",
            "  1.72584176e-01  3.26763350e-03  1.15538985e-01 -1.05716310e-01\n",
            "  2.30825394e-01 -1.85658205e-02 -2.09841892e-01  6.02199361e-02\n",
            " -1.92298427e-01 -1.26196772e-01 -8.56107399e-02 -2.52964914e-01\n",
            " -2.89222095e-02 -5.83384894e-02  1.09680250e-01  1.03336930e-01\n",
            "  1.37530833e-01 -1.15766987e-01 -3.73183377e-02  4.92998399e-02\n",
            "  8.95578936e-02  5.40091284e-02  4.06338125e-02  5.15256003e-02\n",
            "  1.79548383e-01 -3.20700593e-02  1.90367866e-02  2.15451792e-02\n",
            " -3.01366616e-02  1.65156856e-01  1.72855586e-01 -2.85532504e-01\n",
            "  3.99154797e-02  2.85436958e-02  3.61840501e-02  2.20020220e-01\n",
            "  7.43357539e-02 -1.18696854e-01  1.84514433e-01 -1.01581141e-01\n",
            " -1.28160149e-01 -1.04902223e-01  9.38763842e-02 -2.20203638e-01\n",
            " -1.55016184e-01 -7.18593365e-03  3.57889384e-02 -1.77843142e-02\n",
            " -1.68161206e-02 -6.96894825e-02  2.79232617e-02 -9.55160484e-02\n",
            " -9.04259235e-02 -9.13108066e-02  7.55095705e-02  1.46549061e-01\n",
            " -7.61534423e-02 -2.09109336e-02  4.83891852e-02  2.63846964e-02\n",
            "  7.81108141e-02 -1.48103282e-01  3.02287145e-03 -6.27553016e-02\n",
            "  2.00127795e-01 -4.07945476e-02  8.89738798e-02 -2.01121971e-01\n",
            "  7.96816945e-02  9.28754732e-02 -9.74092185e-02 -7.08454028e-02\n",
            " -3.05798166e-02 -4.07741591e-02  1.56132579e-01  2.08266690e-01\n",
            " -7.80230314e-02  6.02160357e-02 -8.70108977e-02 -8.28348007e-03\n",
            " -5.20363301e-02  7.04104006e-02  1.80742308e-01 -8.25855955e-02\n",
            " -2.67581582e-01  1.82132408e-01 -1.05129063e-01 -3.77393560e-03\n",
            "  1.45017132e-01 -1.52913611e-02 -3.05367354e-02  4.19427902e-02\n",
            " -1.09395310e-01  4.29349914e-02  2.63011586e-02  2.21911028e-01\n",
            " -9.17591229e-02  6.42215535e-02  6.18205965e-02 -9.25902724e-02\n",
            " -9.32706073e-02  2.46670209e-02 -1.37168840e-01  1.50263950e-01\n",
            "  7.96250775e-02  1.31721109e-01 -1.81032732e-01 -1.06982805e-01\n",
            " -2.83291489e-01 -9.44297090e-02 -1.20192379e-01  3.70695479e-02\n",
            "  8.38354379e-02  5.51618710e-02  5.29291518e-02 -1.35337301e-02\n",
            " -4.00027595e-02  5.31045608e-02 -3.03534465e-03 -1.72307879e-01\n",
            "  4.76865610e-03 -7.74790272e-02  9.36059728e-02 -2.84259599e-02\n",
            " -1.79560930e-01  1.30512118e-01 -1.80821136e-01 -2.09056512e-02\n",
            " -5.45132272e-02  1.18708469e-01  1.86569542e-02 -8.83756727e-02\n",
            " -5.71033694e-02  3.20248655e-03  4.29490358e-02 -4.41704355e-02\n",
            "  9.18413550e-02 -3.13806921e-01  1.43989637e-01 -7.31729018e-03\n",
            " -6.68659732e-02 -7.50283524e-02 -6.92793652e-02  2.26835072e-01\n",
            "  1.36387229e-01 -1.40131831e-01 -1.05554415e-02  5.61725870e-02]\n"
          ],
          "name": "stdout"
        }
      ]
    },
    {
      "cell_type": "code",
      "metadata": {
        "id": "hAX7393PXUuC",
        "colab_type": "code",
        "colab": {
          "base_uri": "https://localhost:8080/",
          "height": 275
        },
        "outputId": "c8463a90-e424-4997-ffe7-79b86d1ed85b"
      },
      "source": [
        "w2v.most_similar(\"computer\")"
      ],
      "execution_count": 9,
      "outputs": [
        {
          "output_type": "stream",
          "text": [
            "/usr/local/lib/python3.6/dist-packages/ipykernel_launcher.py:1: DeprecationWarning: Call to deprecated `most_similar` (Method will be removed in 4.0.0, use self.wv.most_similar() instead).\n",
            "  \"\"\"Entry point for launching an IPython kernel.\n",
            "/usr/local/lib/python3.6/dist-packages/gensim/matutils.py:737: FutureWarning: Conversion of the second argument of issubdtype from `int` to `np.signedinteger` is deprecated. In future, it will be treated as `np.int64 == np.dtype(int).type`.\n",
            "  if np.issubdtype(vec.dtype, np.int):\n"
          ],
          "name": "stderr"
        },
        {
          "output_type": "execute_result",
          "data": {
            "text/plain": [
              "[('models', 0.820219099521637),\n",
              " ('projects', 0.8163951635360718),\n",
              " ('high-tech', 0.8078446984291077),\n",
              " ('NEC', 0.7974915504455566),\n",
              " ('Take', 0.7906618714332581),\n",
              " ('giant', 0.7814673185348511),\n",
              " ('medical', 0.7806452512741089),\n",
              " ('car', 0.7796580791473389),\n",
              " ('television', 0.776167631149292),\n",
              " ('brokerage', 0.7723062634468079)]"
            ]
          },
          "metadata": {
            "tags": []
          },
          "execution_count": 9
        }
      ]
    },
    {
      "cell_type": "code",
      "metadata": {
        "id": "LR5cZpNkXXKy",
        "colab_type": "code",
        "colab": {
          "base_uri": "https://localhost:8080/",
          "height": 360
        },
        "outputId": "6126edf2-ad00-4526-f8d0-b52c58c20053"
      },
      "source": [
        "w2v.most_similar(\"compute\")"
      ],
      "execution_count": 10,
      "outputs": [
        {
          "output_type": "stream",
          "text": [
            "/usr/local/lib/python3.6/dist-packages/ipykernel_launcher.py:1: DeprecationWarning: Call to deprecated `most_similar` (Method will be removed in 4.0.0, use self.wv.most_similar() instead).\n",
            "  \"\"\"Entry point for launching an IPython kernel.\n"
          ],
          "name": "stderr"
        },
        {
          "output_type": "error",
          "ename": "KeyError",
          "evalue": "ignored",
          "traceback": [
            "\u001b[0;31m---------------------------------------------------------------------------\u001b[0m",
            "\u001b[0;31mKeyError\u001b[0m                                  Traceback (most recent call last)",
            "\u001b[0;32m<ipython-input-10-7d8c98188e47>\u001b[0m in \u001b[0;36m<module>\u001b[0;34m()\u001b[0m\n\u001b[0;32m----> 1\u001b[0;31m \u001b[0mw2v\u001b[0m\u001b[0;34m.\u001b[0m\u001b[0mmost_similar\u001b[0m\u001b[0;34m(\u001b[0m\u001b[0;34m\"compute\"\u001b[0m\u001b[0;34m)\u001b[0m\u001b[0;34m\u001b[0m\u001b[0;34m\u001b[0m\u001b[0m\n\u001b[0m",
            "\u001b[0;32m/usr/local/lib/python3.6/dist-packages/gensim/utils.py\u001b[0m in \u001b[0;36mnew_func1\u001b[0;34m(*args, **kwargs)\u001b[0m\n\u001b[1;32m   1420\u001b[0m                     \u001b[0mstacklevel\u001b[0m\u001b[0;34m=\u001b[0m\u001b[0;36m2\u001b[0m\u001b[0;34m\u001b[0m\u001b[0;34m\u001b[0m\u001b[0m\n\u001b[1;32m   1421\u001b[0m                 )\n\u001b[0;32m-> 1422\u001b[0;31m                 \u001b[0;32mreturn\u001b[0m \u001b[0mfunc\u001b[0m\u001b[0;34m(\u001b[0m\u001b[0;34m*\u001b[0m\u001b[0margs\u001b[0m\u001b[0;34m,\u001b[0m \u001b[0;34m**\u001b[0m\u001b[0mkwargs\u001b[0m\u001b[0;34m)\u001b[0m\u001b[0;34m\u001b[0m\u001b[0;34m\u001b[0m\u001b[0m\n\u001b[0m\u001b[1;32m   1423\u001b[0m \u001b[0;34m\u001b[0m\u001b[0m\n\u001b[1;32m   1424\u001b[0m             \u001b[0;32mreturn\u001b[0m \u001b[0mnew_func1\u001b[0m\u001b[0;34m\u001b[0m\u001b[0;34m\u001b[0m\u001b[0m\n",
            "\u001b[0;32m/usr/local/lib/python3.6/dist-packages/gensim/models/base_any2vec.py\u001b[0m in \u001b[0;36mmost_similar\u001b[0;34m(self, positive, negative, topn, restrict_vocab, indexer)\u001b[0m\n\u001b[1;32m   1395\u001b[0m \u001b[0;34m\u001b[0m\u001b[0m\n\u001b[1;32m   1396\u001b[0m         \"\"\"\n\u001b[0;32m-> 1397\u001b[0;31m         \u001b[0;32mreturn\u001b[0m \u001b[0mself\u001b[0m\u001b[0;34m.\u001b[0m\u001b[0mwv\u001b[0m\u001b[0;34m.\u001b[0m\u001b[0mmost_similar\u001b[0m\u001b[0;34m(\u001b[0m\u001b[0mpositive\u001b[0m\u001b[0;34m,\u001b[0m \u001b[0mnegative\u001b[0m\u001b[0;34m,\u001b[0m \u001b[0mtopn\u001b[0m\u001b[0;34m,\u001b[0m \u001b[0mrestrict_vocab\u001b[0m\u001b[0;34m,\u001b[0m \u001b[0mindexer\u001b[0m\u001b[0;34m)\u001b[0m\u001b[0;34m\u001b[0m\u001b[0;34m\u001b[0m\u001b[0m\n\u001b[0m\u001b[1;32m   1398\u001b[0m \u001b[0;34m\u001b[0m\u001b[0m\n\u001b[1;32m   1399\u001b[0m     \u001b[0;34m@\u001b[0m\u001b[0mdeprecated\u001b[0m\u001b[0;34m(\u001b[0m\u001b[0;34m\"Method will be removed in 4.0.0, use self.wv.wmdistance() instead\"\u001b[0m\u001b[0;34m)\u001b[0m\u001b[0;34m\u001b[0m\u001b[0;34m\u001b[0m\u001b[0m\n",
            "\u001b[0;32m/usr/local/lib/python3.6/dist-packages/gensim/models/keyedvectors.py\u001b[0m in \u001b[0;36mmost_similar\u001b[0;34m(self, positive, negative, topn, restrict_vocab, indexer)\u001b[0m\n\u001b[1;32m    529\u001b[0m                 \u001b[0mmean\u001b[0m\u001b[0;34m.\u001b[0m\u001b[0mappend\u001b[0m\u001b[0;34m(\u001b[0m\u001b[0mweight\u001b[0m \u001b[0;34m*\u001b[0m \u001b[0mword\u001b[0m\u001b[0;34m)\u001b[0m\u001b[0;34m\u001b[0m\u001b[0;34m\u001b[0m\u001b[0m\n\u001b[1;32m    530\u001b[0m             \u001b[0;32melse\u001b[0m\u001b[0;34m:\u001b[0m\u001b[0;34m\u001b[0m\u001b[0;34m\u001b[0m\u001b[0m\n\u001b[0;32m--> 531\u001b[0;31m                 \u001b[0mmean\u001b[0m\u001b[0;34m.\u001b[0m\u001b[0mappend\u001b[0m\u001b[0;34m(\u001b[0m\u001b[0mweight\u001b[0m \u001b[0;34m*\u001b[0m \u001b[0mself\u001b[0m\u001b[0;34m.\u001b[0m\u001b[0mword_vec\u001b[0m\u001b[0;34m(\u001b[0m\u001b[0mword\u001b[0m\u001b[0;34m,\u001b[0m \u001b[0muse_norm\u001b[0m\u001b[0;34m=\u001b[0m\u001b[0;32mTrue\u001b[0m\u001b[0;34m)\u001b[0m\u001b[0;34m)\u001b[0m\u001b[0;34m\u001b[0m\u001b[0;34m\u001b[0m\u001b[0m\n\u001b[0m\u001b[1;32m    532\u001b[0m                 \u001b[0;32mif\u001b[0m \u001b[0mword\u001b[0m \u001b[0;32min\u001b[0m \u001b[0mself\u001b[0m\u001b[0;34m.\u001b[0m\u001b[0mvocab\u001b[0m\u001b[0;34m:\u001b[0m\u001b[0;34m\u001b[0m\u001b[0;34m\u001b[0m\u001b[0m\n\u001b[1;32m    533\u001b[0m                     \u001b[0mall_words\u001b[0m\u001b[0;34m.\u001b[0m\u001b[0madd\u001b[0m\u001b[0;34m(\u001b[0m\u001b[0mself\u001b[0m\u001b[0;34m.\u001b[0m\u001b[0mvocab\u001b[0m\u001b[0;34m[\u001b[0m\u001b[0mword\u001b[0m\u001b[0;34m]\u001b[0m\u001b[0;34m.\u001b[0m\u001b[0mindex\u001b[0m\u001b[0;34m)\u001b[0m\u001b[0;34m\u001b[0m\u001b[0;34m\u001b[0m\u001b[0m\n",
            "\u001b[0;32m/usr/local/lib/python3.6/dist-packages/gensim/models/keyedvectors.py\u001b[0m in \u001b[0;36mword_vec\u001b[0;34m(self, word, use_norm)\u001b[0m\n\u001b[1;32m    450\u001b[0m             \u001b[0;32mreturn\u001b[0m \u001b[0mresult\u001b[0m\u001b[0;34m\u001b[0m\u001b[0;34m\u001b[0m\u001b[0m\n\u001b[1;32m    451\u001b[0m         \u001b[0;32melse\u001b[0m\u001b[0;34m:\u001b[0m\u001b[0;34m\u001b[0m\u001b[0;34m\u001b[0m\u001b[0m\n\u001b[0;32m--> 452\u001b[0;31m             \u001b[0;32mraise\u001b[0m \u001b[0mKeyError\u001b[0m\u001b[0;34m(\u001b[0m\u001b[0;34m\"word '%s' not in vocabulary\"\u001b[0m \u001b[0;34m%\u001b[0m \u001b[0mword\u001b[0m\u001b[0;34m)\u001b[0m\u001b[0;34m\u001b[0m\u001b[0;34m\u001b[0m\u001b[0m\n\u001b[0m\u001b[1;32m    453\u001b[0m \u001b[0;34m\u001b[0m\u001b[0m\n\u001b[1;32m    454\u001b[0m     \u001b[0;32mdef\u001b[0m \u001b[0mget_vector\u001b[0m\u001b[0;34m(\u001b[0m\u001b[0mself\u001b[0m\u001b[0;34m,\u001b[0m \u001b[0mword\u001b[0m\u001b[0;34m)\u001b[0m\u001b[0;34m:\u001b[0m\u001b[0;34m\u001b[0m\u001b[0;34m\u001b[0m\u001b[0m\n",
            "\u001b[0;31mKeyError\u001b[0m: \"word 'compute' not in vocabulary\""
          ]
        }
      ]
    },
    {
      "cell_type": "code",
      "metadata": {
        "id": "W-bIzh0kaILC",
        "colab_type": "code",
        "colab": {
          "base_uri": "https://localhost:8080/",
          "height": 88
        },
        "outputId": "6baaf3c3-4607-427d-cef6-95324ee57120"
      },
      "source": [
        "fasttext = FastText(\n",
        "    sg = skipgram,\n",
        "    hs = 0, #hierarchical softmax\n",
        "    negative = 7,\n",
        "    size = EMB_DIM,\n",
        "    min_count = min_word_count, \n",
        "    workers = workers,\n",
        "    window = context_size, \n",
        "    sample = downsampling, \n",
        "    alpha = learning_rate, \n",
        "    min_alpha = min_learning_rate,\n",
        "    seed=1,\n",
        "    word_ngrams=1\n",
        ")\n",
        "print('Vocabulary size: %d' % len(words))\n",
        "fasttext.build_vocab(train_sentences)\n",
        "fasttext.train(train_sentences,epochs=10,total_examples=w2v.corpus_count)\n",
        "words_fasttext = list(fasttext.wv.vocab)\n",
        "# save model in ASCII (word2vec) format\n",
        "filename = 'embedding_fasttext.txt'\n",
        "fasttext.wv.save_word2vec_format(filename, binary=False)"
      ],
      "execution_count": 11,
      "outputs": [
        {
          "output_type": "stream",
          "text": [
            "Vocabulary size: 10149\n"
          ],
          "name": "stdout"
        },
        {
          "output_type": "stream",
          "text": [
            "/usr/local/lib/python3.6/dist-packages/smart_open/smart_open_lib.py:398: UserWarning: This function is deprecated, use smart_open.open instead. See the migration notes for details: https://github.com/RaRe-Technologies/smart_open/blob/master/README.rst#migrating-to-the-new-open-function\n",
            "  'See the migration notes for details: %s' % _MIGRATION_NOTES_URL\n"
          ],
          "name": "stderr"
        }
      ]
    },
    {
      "cell_type": "code",
      "metadata": {
        "id": "o97anFdCbPGg",
        "colab_type": "code",
        "colab": {
          "base_uri": "https://localhost:8080/",
          "height": 275
        },
        "outputId": "015cc38a-4e12-44b2-bfcb-200936a9c94f"
      },
      "source": [
        "fasttext.most_similar(\"computer\")"
      ],
      "execution_count": 12,
      "outputs": [
        {
          "output_type": "stream",
          "text": [
            "/usr/local/lib/python3.6/dist-packages/ipykernel_launcher.py:1: DeprecationWarning: Call to deprecated `most_similar` (Method will be removed in 4.0.0, use self.wv.most_similar() instead).\n",
            "  \"\"\"Entry point for launching an IPython kernel.\n",
            "/usr/local/lib/python3.6/dist-packages/gensim/matutils.py:737: FutureWarning: Conversion of the second argument of issubdtype from `int` to `np.signedinteger` is deprecated. In future, it will be treated as `np.int64 == np.dtype(int).type`.\n",
            "  if np.issubdtype(vec.dtype, np.int):\n"
          ],
          "name": "stderr"
        },
        {
          "output_type": "execute_result",
          "data": {
            "text/plain": [
              "[('computers', 0.9316549301147461),\n",
              " ('supercomputer', 0.9286706447601318),\n",
              " ('Computer', 0.8386468887329102),\n",
              " ('heavily', 0.7870428562164307),\n",
              " ('electronic', 0.7486151456832886),\n",
              " ('electronics', 0.7109121680259705),\n",
              " ('Foster', 0.710498034954071),\n",
              " ('electrical', 0.7073049545288086),\n",
              " ('names', 0.7015905380249023),\n",
              " ('center', 0.6978118419647217)]"
            ]
          },
          "metadata": {
            "tags": []
          },
          "execution_count": 12
        }
      ]
    },
    {
      "cell_type": "code",
      "metadata": {
        "id": "Aae3xN7DbSyk",
        "colab_type": "code",
        "colab": {
          "base_uri": "https://localhost:8080/",
          "height": 275
        },
        "outputId": "a19a41d0-2731-46ea-9e40-8a840faf1357"
      },
      "source": [
        "fasttext.most_similar(\"compute\")"
      ],
      "execution_count": 13,
      "outputs": [
        {
          "output_type": "stream",
          "text": [
            "/usr/local/lib/python3.6/dist-packages/ipykernel_launcher.py:1: DeprecationWarning: Call to deprecated `most_similar` (Method will be removed in 4.0.0, use self.wv.most_similar() instead).\n",
            "  \"\"\"Entry point for launching an IPython kernel.\n",
            "/usr/local/lib/python3.6/dist-packages/gensim/matutils.py:737: FutureWarning: Conversion of the second argument of issubdtype from `int` to `np.signedinteger` is deprecated. In future, it will be treated as `np.int64 == np.dtype(int).type`.\n",
            "  if np.issubdtype(vec.dtype, np.int):\n"
          ],
          "name": "stderr"
        },
        {
          "output_type": "execute_result",
          "data": {
            "text/plain": [
              "[('computer', 0.9319080114364624),\n",
              " ('computers', 0.90720534324646),\n",
              " ('supercomputer', 0.8444979786872864),\n",
              " ('Computer', 0.727797269821167),\n",
              " ('heavily', 0.711861789226532),\n",
              " ('electrical', 0.629509687423706),\n",
              " ('electronic', 0.6275074481964111),\n",
              " ('introduced', 0.6167677640914917),\n",
              " ('high-tech', 0.6075800061225891),\n",
              " ('devices', 0.6040067076683044)]"
            ]
          },
          "metadata": {
            "tags": []
          },
          "execution_count": 13
        }
      ]
    },
    {
      "cell_type": "code",
      "metadata": {
        "id": "Rh0lEtM2bVke",
        "colab_type": "code",
        "colab": {}
      },
      "source": [
        ""
      ],
      "execution_count": 0,
      "outputs": []
    }
  ]
}